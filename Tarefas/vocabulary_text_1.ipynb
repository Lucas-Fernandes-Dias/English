{
 "cells": [
  {
   "cell_type": "markdown",
   "id": "22e39cd7",
   "metadata": {},
   "source": [
    "VOCABULARY ESSENTIAL: TRANSLATE.<br>\n",
    "**To make** >>>>>>>>>>>>>>>>>>> Fazer <br>\n",
    "**To undermine**>>>>>>>>>>>>>>> Minar <br>\n",
    "**To feel**>>>>>>>>>>>>>>>>>>>> Sentir <br>\n",
    "**To say**>>>>>>>>>>>>>>>>>>>>> Dizer <br>\n",
    "**To treat**>>>>>>>>>>>>>>>>>>> Tratar <br>\n",
    "**To choose**>>>>>>>>>>>>>>>>>> Escolher <br>\n",
    "**To belittle**>>>>>>>>>>>>>>>> Menosprezar <br>\n",
    "**Supportive**>>>>>>>>>>>>>>>>> Solidário <br>\n",
    "**Friends**>>>>>>>>>>>>>>>>>>>> Amigos <br>\n",
    "**To take seriously**>>>>>>>>>> Levar a sério <br>\n",
    "**To get angry with**>>>>>>>>>> Ficar com raiva <br>\n",
    "**To own**>>>>>>>>>>>>>>>>>>>>> Possuir <br>\n",
    "**When**>>>>>>>>>>>>>>>>>>>>>>> Quando <br>\n",
    "**To run**>>>>>>>>>>>>>>>>>>>>> Correr <br>\n",
    "**To see**>>>>>>>>>>>>>>>>>>>>> Ver <br>\n",
    "**To spend**>>>>>>>>>>>>>>>>>>> Gastar <br>\n",
    "**To want**>>>>>>>>>>>>>>>>>>>> Querer <br>\n",
    "**To try**>>>>>>>>>>>>>>>>>>>>> Tentar <br>\n",
    "**To succeed**>>>>>>>>>>>>>>>>> Ter Sucesso <br>\n"
   ]
  },
  {
   "cell_type": "code",
   "execution_count": null,
   "id": "e3a6e84c",
   "metadata": {},
   "outputs": [],
   "source": []
  }
 ],
 "metadata": {
  "kernelspec": {
   "display_name": "Python 3 (ipykernel)",
   "language": "python",
   "name": "python3"
  },
  "language_info": {
   "codemirror_mode": {
    "name": "ipython",
    "version": 3
   },
   "file_extension": ".py",
   "mimetype": "text/x-python",
   "name": "python",
   "nbconvert_exporter": "python",
   "pygments_lexer": "ipython3",
   "version": "3.9.12"
  }
 },
 "nbformat": 4,
 "nbformat_minor": 5
}
