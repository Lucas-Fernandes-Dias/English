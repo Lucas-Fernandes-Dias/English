{
 "cells": [
  {
   "cell_type": "markdown",
   "id": "de94ceb7",
   "metadata": {},
   "source": [
    "                                                        TEXT\n",
    "       You make me feel “You make me feel insignificant. You treat me like a child. You belittle me. You don’t like my friends, you get angry with me when I see them, and you don’t want me to succeed. You undermine me, nothing I say is correct, I can’t even choose a movie or order dinner, you think the things I’m interested in are ridiculous, everything is rational and calculated to you, you’re not supportive of my work, you don’t want to take me seriously, you want to own me and control everything, but people aren’t like – you can’t run their lives or drive your security from possessing them. You can’t expect me to spend my life trying to be what you think I should be”. “But I Love you!” \n",
    "\n",
    "\n",
    "                                                      Questions:\n",
    "\n",
    "\n",
    "1. What is the main theme of the text presented? \n",
    "\n",
    "\n",
    "What the text presented was the point view that show us how one relationship abusive and that even so one of the part still keep love the other part.\n",
    "\n",
    "\n",
    "\n",
    "\n",
    "2. In the text, can you tell if it's a woman complaining or a man? if yes, in which part of the text you can see this? \n",
    "\n",
    "\n",
    "Impossible to tell the gender of the central person in the text\n",
    "\n",
    "\n",
    "\n",
    "3. How could the expression be translated - “...you’re not supportive of my work...”?\n",
    "\n",
    "\n",
    "We can translated this way,  you don´t approve of my work.\n",
    " \n",
    "\n",
    "\t\n"
   ]
  }
 ],
 "metadata": {
  "kernelspec": {
   "display_name": "Python 3 (ipykernel)",
   "language": "python",
   "name": "python3"
  },
  "language_info": {
   "codemirror_mode": {
    "name": "ipython",
    "version": 3
   },
   "file_extension": ".py",
   "mimetype": "text/x-python",
   "name": "python",
   "nbconvert_exporter": "python",
   "pygments_lexer": "ipython3",
   "version": "3.9.12"
  }
 },
 "nbformat": 4,
 "nbformat_minor": 5
}
