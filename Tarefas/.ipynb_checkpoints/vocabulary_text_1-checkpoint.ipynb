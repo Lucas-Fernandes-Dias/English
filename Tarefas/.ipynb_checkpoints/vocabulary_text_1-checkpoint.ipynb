{
 "cells": [
  {
   "cell_type": "markdown",
   "id": "22e39cd7",
   "metadata": {},
   "source": [
    "VOCABULARY ESSENTIAL: TRANSLATE.\n",
    "To make                     Fazer <br>\n",
    "to undermine                Minar <br>\n",
    "To feel                     Sentir <br>\n",
    "to say                      Dizer <br>\n",
    "To treat                    Tratar <br>\n",
    "to choose                   Escolher <br>\n",
    "To belittle                 Menosprezar <br>\n",
    "supportive                  Solidário <br>\n",
    "Friends                     Amigos <br>\n",
    "to take seriously           Levar a sério <br>\n",
    "To get angry with           Ficar com raiva <br>\n",
    "to own                      Possuir <br>\n",
    "When                        Quando <br>\n",
    "to run                      Correr <br>\n",
    "To see                      Ver <br>\n",
    "to spend                    Gastar <br>\n",
    "To want                     Querer <br>\n",
    "to try                      Tentar <br>\n",
    "To succeed                  Ter Sucesso <br>\n"
   ]
  },
  {
   "cell_type": "code",
   "execution_count": null,
   "id": "e3a6e84c",
   "metadata": {},
   "outputs": [],
   "source": []
  }
 ],
 "metadata": {
  "kernelspec": {
   "display_name": "Python 3 (ipykernel)",
   "language": "python",
   "name": "python3"
  },
  "language_info": {
   "codemirror_mode": {
    "name": "ipython",
    "version": 3
   },
   "file_extension": ".py",
   "mimetype": "text/x-python",
   "name": "python",
   "nbconvert_exporter": "python",
   "pygments_lexer": "ipython3",
   "version": "3.9.12"
  }
 },
 "nbformat": 4,
 "nbformat_minor": 5
}
