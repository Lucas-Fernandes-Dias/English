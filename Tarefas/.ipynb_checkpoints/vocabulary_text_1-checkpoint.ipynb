{
 "cells": [
  {
   "cell_type": "markdown",
   "id": "22e39cd7",
   "metadata": {},
   "source": [
    "VOCABULARY ESSENTIAL: TRANSLATE.\n",
    "To make                     Fazer\n",
    "to undermine                Minar\n",
    "To feel                     Sentir\n",
    "to say                      Dizer\n",
    "To treat                    Tratar\n",
    "to choose                   Escolher\n",
    "To belittle                 Menosprezar\n",
    "supportive                  Solidário\n",
    "Friends                     Amigos \n",
    "to take seriously           Levar a sério\n",
    "To get angry with           Ficar com raiva \n",
    "to own                      Possuir\n",
    "When                        Quando\n",
    "to run                      Correr\n",
    "To see                      Ver\n",
    "to spend                    Gastar\n",
    "To want                     Querer\n",
    "to try                      Tentar\n",
    "To succeed                  Ter Sucesso\n"
   ]
  },
  {
   "cell_type": "code",
   "execution_count": null,
   "id": "e3a6e84c",
   "metadata": {},
   "outputs": [],
   "source": []
  }
 ],
 "metadata": {
  "kernelspec": {
   "display_name": "Python 3 (ipykernel)",
   "language": "python",
   "name": "python3"
  },
  "language_info": {
   "codemirror_mode": {
    "name": "ipython",
    "version": 3
   },
   "file_extension": ".py",
   "mimetype": "text/x-python",
   "name": "python",
   "nbconvert_exporter": "python",
   "pygments_lexer": "ipython3",
   "version": "3.9.12"
  }
 },
 "nbformat": 4,
 "nbformat_minor": 5
}
